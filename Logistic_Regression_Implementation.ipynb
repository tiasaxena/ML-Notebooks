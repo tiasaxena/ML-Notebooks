{
  "nbformat": 4,
  "nbformat_minor": 0,
  "metadata": {
    "colab": {
      "provenance": [],
      "authorship_tag": "ABX9TyMlKvf+37sHya68qXoxBXrt",
      "include_colab_link": true
    },
    "kernelspec": {
      "name": "python3",
      "display_name": "Python 3"
    },
    "language_info": {
      "name": "python"
    }
  },
  "cells": [
    {
      "cell_type": "markdown",
      "metadata": {
        "id": "view-in-github",
        "colab_type": "text"
      },
      "source": [
        "<a href=\"https://colab.research.google.com/github/tiasaxena/ML-Notebooks/blob/main/Logistic_Regression_Implementation.ipynb\" target=\"_parent\"><img src=\"https://colab.research.google.com/assets/colab-badge.svg\" alt=\"Open In Colab\"/></a>"
      ]
    },
    {
      "cell_type": "markdown",
      "source": [
        "## **Logistic Regression Implementation**"
      ],
      "metadata": {
        "id": "ujSqI50E2Rnx"
      }
    },
    {
      "cell_type": "code",
      "source": [
        "import numpy as np\n",
        "from sklearn.datasets import load_breast_cancer\n",
        "from sklearn.model_selection import train_test_split\n",
        "import matplotlib.pyplot as plt"
      ],
      "metadata": {
        "id": "91NU0EdG96rp"
      },
      "execution_count": null,
      "outputs": []
    },
    {
      "cell_type": "code",
      "source": [
        "dataset = load_breast_cancer()\n",
        "X, y = dataset.data, dataset.target\n",
        "\n",
        "X_train, X_test, y_train, y_test = train_test_split(X, y, test_size=0.2, random_state=1234)"
      ],
      "metadata": {
        "id": "3Dfn-yK--MS2"
      },
      "execution_count": null,
      "outputs": []
    },
    {
      "cell_type": "code",
      "execution_count": null,
      "metadata": {
        "id": "1c5eIWVf10Uq"
      },
      "outputs": [],
      "source": [
        "class LogisticRegression:\n",
        "  def __init__(self, lr=0.01, n_iterations=1000):\n",
        "    self.lr = lr\n",
        "    self.n_iterations = n_iterations\n",
        "    self.weights = None\n",
        "    self.bias = None\n",
        "\n",
        "  def fit(self, X, y):\n",
        "    # init parameters\n",
        "    n_samples, n_features = X.shape\n",
        "    self.weight = np.zeros(n_features)\n",
        "    self.bias = 0\n",
        "\n",
        "    # gradient descent\n",
        "    for _ in range(self.n_iterations):\n",
        "      linear_model = np.dot(X, self.weight) + self.bias\n",
        "      y_predictions = self._sigmoid(linear_model)\n",
        "\n",
        "      dw = (1 / n_samples) * np.dot(X.T, (y_predictions - y))\n",
        "      db = (1 / n_samples) * np.sum(y_predictions - y)\n",
        "\n",
        "      self.weight -= dw\n",
        "      self.bias -= db\n",
        "\n",
        "  def predict(self, X):\n",
        "    linear_model = np.dot(X, self.weight) + self.bias\n",
        "    y_predictions = self._sigmoid(linear_model)\n",
        "    y_predicted_classes = [1 if i > 0.5 else 0 for i in y_predictions]\n",
        "    return y_predicted_classes\n",
        "\n",
        "  def accuracy(self, y_true, y_preds):\n",
        "    return np.sum(y_true == y_preds) / len(y_true)\n",
        "\n",
        "  def _sigmoid(self, linear_model):\n",
        "    return 1 / (1 + np.exp(-linear_model))"
      ]
    },
    {
      "cell_type": "code",
      "source": [
        "model = LogisticRegression(lr=0.01, n_iterations=1000)\n",
        "model.fit(X_train, y_train)\n",
        "predictions = model.predict(X_test)\n",
        "\n",
        "print(f\"LR classification accuracy: {model.accuracy(y_test, predictions): .2f}\")"
      ],
      "metadata": {
        "colab": {
          "base_uri": "https://localhost:8080/"
        },
        "id": "V9Orblqf-cPY",
        "outputId": "cc6852b4-aa5c-41e4-f43e-4a914064b15e"
      },
      "execution_count": null,
      "outputs": [
        {
          "output_type": "stream",
          "name": "stdout",
          "text": [
            "LR classification accuracy:  0.92\n"
          ]
        },
        {
          "output_type": "stream",
          "name": "stderr",
          "text": [
            "<ipython-input-19-7ef01006520f>:35: RuntimeWarning: overflow encountered in exp\n",
            "  return 1 / (1 + np.exp(-linear_model))\n"
          ]
        }
      ]
    }
  ]
}