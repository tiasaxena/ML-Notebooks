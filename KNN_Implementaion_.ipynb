{
  "cells": [
    {
      "cell_type": "markdown",
      "metadata": {
        "id": "view-in-github",
        "colab_type": "text"
      },
      "source": [
        "<a href=\"https://colab.research.google.com/github/tiasaxena/ML-Notebooks/blob/main/KNN_Implementaion_.ipynb\" target=\"_parent\"><img src=\"https://colab.research.google.com/assets/colab-badge.svg\" alt=\"Open In Colab\"/></a>"
      ]
    },
    {
      "cell_type": "markdown",
      "metadata": {
        "id": "fREgS8Y7hQwH"
      },
      "source": [
        "## **KNN Implementation**"
      ]
    },
    {
      "cell_type": "code",
      "execution_count": null,
      "metadata": {
        "id": "yM3UkDTrPEli"
      },
      "outputs": [],
      "source": [
        "import pandas as pd\n",
        "import numpy as  np\n",
        "import matplotlib.pyplot as plt\n",
        "from matplotlib.colors import ListedColormap\n",
        "from sklearn.datasets import load_iris\n",
        "from sklearn.model_selection import train_test_split\n",
        "from mlxtend.plotting import plot_decision_regions\n",
        "\n",
        "cmap = ListedColormap(['#FF0040', '#76FF76', '#9999FF']) # shades of red, green, blue\n",
        "markers = (\"x\", \"o\", \"s\")"
      ]
    },
    {
      "cell_type": "code",
      "execution_count": null,
      "metadata": {
        "colab": {
          "base_uri": "https://localhost:8080/"
        },
        "id": "oCRi3MuKQKC9",
        "outputId": "ac4d8293-7fdf-4d5d-9f4a-19b90ece48dd"
      },
      "outputs": [
        {
          "output_type": "stream",
          "name": "stdout",
          "text": [
            "____________Features_______________\n",
            "\n",
            "['sepal length (cm)', 'sepal width (cm)', 'petal length (cm)', 'petal width (cm)']\n",
            "___________________________________\n",
            "\n"
          ]
        }
      ],
      "source": [
        "iris_dataset = load_iris()\n",
        "X, y = iris_dataset.data, iris_dataset.target\n",
        "print(\"____________Features_______________\\n\")\n",
        "print(iris_dataset.feature_names)\n",
        "print(\"___________________________________\\n\")\n",
        "X_train, X_test, y_train, y_test = train_test_split(X, y, test_size=0.2, random_state=42)"
      ]
    },
    {
      "cell_type": "code",
      "execution_count": null,
      "metadata": {
        "colab": {
          "base_uri": "https://localhost:8080/"
        },
        "id": "vMirfK0ySwyn",
        "outputId": "6ec44a59-1c3f-422a-89a9-23dde6ababa0"
      },
      "outputs": [
        {
          "output_type": "execute_result",
          "data": {
            "text/plain": [
              "((120, 4), (30, 4), (120,), (30,), array([4.6, 3.6, 1. , 0.2]))"
            ]
          },
          "metadata": {},
          "execution_count": 21
        }
      ],
      "source": [
        "X_train.shape, X_test.shape, y_train.shape, y_test.shape, X_train[0]"
      ]
    },
    {
      "cell_type": "code",
      "execution_count": null,
      "metadata": {
        "id": "q7hYv31qhC6o"
      },
      "outputs": [],
      "source": [
        "def euclidean_distance(x1, x2):\n",
        "  return np.sqrt(np.sum((x1 - x2)**2))\n",
        "\n",
        "class KNN:\n",
        "  \"\"\"\n",
        "  Implementation of KNN algorithm\n",
        "  \"\"\"\n",
        "  def __init__(self, k=3):\n",
        "    self.k = k\n",
        "\n",
        "  def fit(self, X, y):\n",
        "    self.X_train = X\n",
        "    self.y_train = y\n",
        "\n",
        "  def predict(self, X):\n",
        "    predicted_labels = [self._predict(x) for x in X]\n",
        "    return np.array(predicted_labels)\n",
        "\n",
        "  def _predict(self, x):\n",
        "    # Compute distances\n",
        "    distances = [euclidean_distance(x, x2) for x2 in self.X_train]\n",
        "    # Get k nearest samples, labels\n",
        "    k_indices = np.argsort(distances)[:self.k]\n",
        "    k_nearest_labels = [self.y_train[i] for i in k_indices]\n",
        "    # Get the most common/majority label\n",
        "    from collections import Counter\n",
        "    most_common = Counter(k_nearest_labels).most_common(1)\n",
        "    return most_common[0][0]"
      ]
    },
    {
      "cell_type": "code",
      "execution_count": null,
      "metadata": {
        "id": "qHxw96OQdylM",
        "colab": {
          "base_uri": "https://localhost:8080/"
        },
        "outputId": "dc7911b7-9447-4f43-b731-8aee05d21947"
      },
      "outputs": [
        {
          "output_type": "stream",
          "name": "stdout",
          "text": [
            "The accuracy of the KNN model with k = 5 is 1.00\n"
          ]
        }
      ],
      "source": [
        "k = 5\n",
        "knn_model = KNN(k)\n",
        "knn_model.fit(X_train, y_train)\n",
        "predictions = knn_model.predict(X_test)\n",
        "\n",
        "# Find the accuracy\n",
        "accuracy = np.sum(predictions == y_test) / len(y_test)\n",
        "print(f\"The accuracy of the KNN model with k = {k} is {accuracy:.2f}\")"
      ]
    },
    {
      "cell_type": "code",
      "execution_count": null,
      "metadata": {
        "colab": {
          "base_uri": "https://localhost:8080/",
          "height": 541
        },
        "id": "cDWK9SGemwWB",
        "outputId": "56ac2423-b59e-4e84-a136-df7bc134503b"
      },
      "outputs": [
        {
          "output_type": "stream",
          "name": "stdout",
          "text": [
            "class_idx: [0 1 2]\n",
            "labels: ['setosa' 'versicolor' 'virginica']\n"
          ]
        },
        {
          "output_type": "stream",
          "name": "stderr",
          "text": [
            "<ipython-input-24-253795e00857>:8: UserWarning: *c* argument looks like a single numeric RGB or RGBA sequence, which should be avoided as value-mapping will have precedence in case its length matches with *x* & *y*.  Please use the *color* keyword-argument or provide a 2D array with a single row if you intend to specify the same RGB or RGBA value for all points.\n",
            "  plt.scatter(x=X[y == cls, 0], y=X[y == cls, 1], c=cmap(index), marker=markers[index], label=labels[cls])\n"
          ]
        },
        {
          "output_type": "display_data",
          "data": {
            "text/plain": [
              "<Figure size 640x480 with 1 Axes>"
            ],
            "image/png": "[encoded data removed]"
          },
          "metadata": {}
        }
      ],
      "source": [
        "class_idx = np.unique(y)\n",
        "labels = iris_dataset.target_names\n",
        "\n",
        "print(f'class_idx: {class_idx}')\n",
        "print(f'labels: {labels}')\n",
        "\n",
        "for index, cls in enumerate(class_idx):\n",
        "  plt.scatter(x=X[y == cls, 0], y=X[y == cls, 1], c=cmap(index), marker=markers[index], label=labels[cls])\n",
        "plt.xlabel(\"Feature 1\")\n",
        "plt.ylabel(\"Feature 2\")\n",
        "plt.legend()\n",
        "plt.show()\n"
      ]
    }
  ],
  "metadata": {
    "colab": {
      "provenance": [],
      "authorship_tag": "ABX9TyPMsaoBBcVGgclILTVvMOvf",
      "include_colab_link": true
    },
    "kernelspec": {
      "display_name": "Python 3",
      "name": "python3"
    },
    "language_info": {
      "name": "python"
    }
  },
  "nbformat": 4,
  "nbformat_minor": 0
}